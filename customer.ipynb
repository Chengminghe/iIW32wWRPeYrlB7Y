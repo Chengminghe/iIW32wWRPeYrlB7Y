{
 "cells": [
  {
   "cell_type": "code",
   "execution_count": 1,
   "id": "english-agency",
   "metadata": {},
   "outputs": [],
   "source": [
    "import numpy as np\n",
    "import pandas as pd\n",
    "import matplotlib.pyplot as plt\n",
    "import sklearn"
   ]
  },
  {
   "cell_type": "code",
   "execution_count": 2,
   "id": "hindu-input",
   "metadata": {},
   "outputs": [],
   "source": [
    "df = pd.read_csv('data/ACME-HappinessSurvey2020.csv')"
   ]
  },
  {
   "cell_type": "markdown",
   "id": "inclusive-swift",
   "metadata": {},
   "source": [
    "Y = target attribute (Y) with values indicating 0 (unhappy) and 1 (happy) customers \\\n",
    "X1 = my order was delivered on time \\\n",
    "X2 = contents of my order was as I expected \\\n",
    "X3 = I ordered everything I wanted to order \\\n",
    "X4 = I paid a good price for my order \\\n",
    "X5 = I am satisfied with my courier \\\n",
    "X6 = the app makes ordering easy for me "
   ]
  },
  {
   "cell_type": "markdown",
   "id": "corrected-harvard",
   "metadata": {},
   "source": [
    "# Explore the data\n",
    "1. make sure data is balanced\n",
    "2. inspect correlations among features"
   ]
  },
  {
   "cell_type": "code",
   "execution_count": 3,
   "id": "identified-advocacy",
   "metadata": {},
   "outputs": [
    {
     "data": {
      "text/plain": [
       "Y     int64\n",
       "X1    int64\n",
       "X2    int64\n",
       "X3    int64\n",
       "X4    int64\n",
       "X5    int64\n",
       "X6    int64\n",
       "dtype: object"
      ]
     },
     "execution_count": 3,
     "metadata": {},
     "output_type": "execute_result"
    }
   ],
   "source": [
    "df.dtypes"
   ]
  },
  {
   "cell_type": "code",
   "execution_count": 4,
   "id": "political-green",
   "metadata": {},
   "outputs": [
    {
     "data": {
      "text/plain": [
       "Y     0.547619\n",
       "X1    4.333333\n",
       "X2    2.531746\n",
       "X3    3.309524\n",
       "X4    3.746032\n",
       "X5    3.650794\n",
       "X6    4.253968\n",
       "dtype: float64"
      ]
     },
     "execution_count": 4,
     "metadata": {},
     "output_type": "execute_result"
    }
   ],
   "source": [
    "df.mean()"
   ]
  },
  {
   "cell_type": "code",
   "execution_count": 5,
   "id": "skilled-cincinnati",
   "metadata": {},
   "outputs": [
    {
     "data": {
      "text/html": [
       "<div>\n",
       "<style scoped>\n",
       "    .dataframe tbody tr th:only-of-type {\n",
       "        vertical-align: middle;\n",
       "    }\n",
       "\n",
       "    .dataframe tbody tr th {\n",
       "        vertical-align: top;\n",
       "    }\n",
       "\n",
       "    .dataframe thead th {\n",
       "        text-align: right;\n",
       "    }\n",
       "</style>\n",
       "<table border=\"1\" class=\"dataframe\">\n",
       "  <thead>\n",
       "    <tr style=\"text-align: right;\">\n",
       "      <th></th>\n",
       "      <th>Y</th>\n",
       "      <th>X1</th>\n",
       "      <th>X2</th>\n",
       "      <th>X3</th>\n",
       "      <th>X4</th>\n",
       "      <th>X5</th>\n",
       "      <th>X6</th>\n",
       "    </tr>\n",
       "  </thead>\n",
       "  <tbody>\n",
       "    <tr>\n",
       "      <th>Y</th>\n",
       "      <td>1.000000</td>\n",
       "      <td>0.280160</td>\n",
       "      <td>-0.024274</td>\n",
       "      <td>0.150838</td>\n",
       "      <td>0.064415</td>\n",
       "      <td>0.224522</td>\n",
       "      <td>0.167669</td>\n",
       "    </tr>\n",
       "    <tr>\n",
       "      <th>X1</th>\n",
       "      <td>0.280160</td>\n",
       "      <td>1.000000</td>\n",
       "      <td>0.059797</td>\n",
       "      <td>0.283358</td>\n",
       "      <td>0.087541</td>\n",
       "      <td>0.432772</td>\n",
       "      <td>0.411873</td>\n",
       "    </tr>\n",
       "    <tr>\n",
       "      <th>X2</th>\n",
       "      <td>-0.024274</td>\n",
       "      <td>0.059797</td>\n",
       "      <td>1.000000</td>\n",
       "      <td>0.184129</td>\n",
       "      <td>0.114838</td>\n",
       "      <td>0.039996</td>\n",
       "      <td>-0.062205</td>\n",
       "    </tr>\n",
       "    <tr>\n",
       "      <th>X3</th>\n",
       "      <td>0.150838</td>\n",
       "      <td>0.283358</td>\n",
       "      <td>0.184129</td>\n",
       "      <td>1.000000</td>\n",
       "      <td>0.302618</td>\n",
       "      <td>0.358397</td>\n",
       "      <td>0.203750</td>\n",
       "    </tr>\n",
       "    <tr>\n",
       "      <th>X4</th>\n",
       "      <td>0.064415</td>\n",
       "      <td>0.087541</td>\n",
       "      <td>0.114838</td>\n",
       "      <td>0.302618</td>\n",
       "      <td>1.000000</td>\n",
       "      <td>0.293115</td>\n",
       "      <td>0.215888</td>\n",
       "    </tr>\n",
       "    <tr>\n",
       "      <th>X5</th>\n",
       "      <td>0.224522</td>\n",
       "      <td>0.432772</td>\n",
       "      <td>0.039996</td>\n",
       "      <td>0.358397</td>\n",
       "      <td>0.293115</td>\n",
       "      <td>1.000000</td>\n",
       "      <td>0.320195</td>\n",
       "    </tr>\n",
       "    <tr>\n",
       "      <th>X6</th>\n",
       "      <td>0.167669</td>\n",
       "      <td>0.411873</td>\n",
       "      <td>-0.062205</td>\n",
       "      <td>0.203750</td>\n",
       "      <td>0.215888</td>\n",
       "      <td>0.320195</td>\n",
       "      <td>1.000000</td>\n",
       "    </tr>\n",
       "  </tbody>\n",
       "</table>\n",
       "</div>"
      ],
      "text/plain": [
       "           Y        X1        X2        X3        X4        X5        X6\n",
       "Y   1.000000  0.280160 -0.024274  0.150838  0.064415  0.224522  0.167669\n",
       "X1  0.280160  1.000000  0.059797  0.283358  0.087541  0.432772  0.411873\n",
       "X2 -0.024274  0.059797  1.000000  0.184129  0.114838  0.039996 -0.062205\n",
       "X3  0.150838  0.283358  0.184129  1.000000  0.302618  0.358397  0.203750\n",
       "X4  0.064415  0.087541  0.114838  0.302618  1.000000  0.293115  0.215888\n",
       "X5  0.224522  0.432772  0.039996  0.358397  0.293115  1.000000  0.320195\n",
       "X6  0.167669  0.411873 -0.062205  0.203750  0.215888  0.320195  1.000000"
      ]
     },
     "execution_count": 5,
     "metadata": {},
     "output_type": "execute_result"
    }
   ],
   "source": [
    "df.corr()"
   ]
  },
  {
   "cell_type": "code",
   "execution_count": 6,
   "id": "loving-albania",
   "metadata": {},
   "outputs": [
    {
     "name": "stderr",
     "output_type": "stream",
     "text": [
      "/var/folders/nd/hzd0zcf9363clrvwfc13r9940000gn/T/ipykernel_5403/4269691155.py:3: UserWarning: To output multiple subplots, the figure containing the passed axes is being cleared.\n",
      "  a = df.hist(ax = ax);\n"
     ]
    },
    {
     "data": {
      "image/png": "[encoded data removed]",
      "text/plain": [
       "<Figure size 800x800 with 9 Axes>"
      ]
     },
     "metadata": {},
     "output_type": "display_data"
    }
   ],
   "source": [
    "fig = plt.figure(figsize = (8,8))\n",
    "ax = fig.gca()\n",
    "a = df.hist(ax = ax);"
   ]
  },
  {
   "cell_type": "code",
   "execution_count": 40,
   "id": "undefined-friendly",
   "metadata": {},
   "outputs": [],
   "source": [
    "def print_metric(clf,X_train, X_test, y_train, y_test):\n",
    "    from sklearn.metrics import accuracy_score,precision_score,recall_score\n",
    "    print('Training accuracy score',accuracy_score(clf.predict(X_train),y_train))\n",
    "    print('Testing accuracy score',accuracy_score(clf.predict(X_test),y_test))\n",
    "    print('precision score',precision_score(clf.predict(X_test),y_test))\n",
    "    print('recall score',recall_score(clf.predict(X_test),y_test))"
   ]
  },
  {
   "cell_type": "markdown",
   "id": "enormous-video",
   "metadata": {},
   "source": [
    "X1 and X6 are best performing. X2 is the least satisfying."
   ]
  },
  {
   "cell_type": "code",
   "execution_count": 45,
   "id": "blank-china",
   "metadata": {},
   "outputs": [
    {
     "name": "stdout",
     "output_type": "stream",
     "text": [
      "Training data shape:  (88, 23)\n"
     ]
    }
   ],
   "source": [
    "from sklearn.model_selection import train_test_split\n",
    "from sklearn.linear_model import LogisticRegression\n",
    "from sklearn.preprocessing import OneHotEncoder\n",
    "encoded_data = OneHotEncoder(drop='first',sparse=False).fit_transform(df)\n",
    "X_train, X_test, y_train, y_test  = train_test_split(encoded_data[:,1:],encoded_data[:,0], test_size=0.3, random_state=0)\n",
    "print('Training data shape: ', X_train.shape)"
   ]
  },
  {
   "cell_type": "code",
   "execution_count": 24,
   "id": "varying-child",
   "metadata": {},
   "outputs": [
    {
     "name": "stdout",
     "output_type": "stream",
     "text": [
      "Training accuracy score 0.7386363636363636\n",
      "Testing accuracy score 0.5526315789473685\n",
      "precision score 0.7647058823529411\n",
      "recall score 0.5\n"
     ]
    }
   ],
   "source": [
    "clf = LogisticRegression(random_state=0).fit(X_train, y_train)\n",
    "print_metric(clf,X_train, X_test, y_train, y_test)"
   ]
  },
  {
   "cell_type": "code",
   "execution_count": 32,
   "id": "arbitrary-hepatitis",
   "metadata": {},
   "outputs": [
    {
     "name": "stdout",
     "output_type": "stream",
     "text": [
      "Training accuracy score 0.5909090909090909\n",
      "Testing accuracy score 0.4473684210526316\n",
      "precision score 1.0\n",
      "recall score 0.4473684210526316\n"
     ]
    }
   ],
   "source": [
    "from sklearn.tree import DecisionTreeClassifier\n",
    "tree =  DecisionTreeClassifier(random_state=0,ccp_alpha=.1).fit(X_train, y_train)\n",
    "print_metric(tree,X_train, X_test, y_train, y_test)"
   ]
  },
  {
   "cell_type": "code",
   "execution_count": 33,
   "id": "upper-laptop",
   "metadata": {},
   "outputs": [
    {
     "name": "stdout",
     "output_type": "stream",
     "text": [
      "Training accuracy score 0.9545454545454546\n",
      "Testing accuracy score 0.5\n",
      "precision score 0.5294117647058824\n",
      "recall score 0.45\n"
     ]
    }
   ],
   "source": [
    "from sklearn.ensemble import RandomForestClassifier\n",
    "forest = RandomForestClassifier( random_state=0).fit(X_train, y_train)\n",
    "print_metric(forest,X_train, X_test, y_train, y_test)\n"
   ]
  },
  {
   "cell_type": "markdown",
   "id": "romantic-antibody",
   "metadata": {},
   "source": [
    "### Testing accuracy substantially lower than training accuracy, indicating overfitting."
   ]
  },
  {
   "cell_type": "markdown",
   "id": "incident-nevada",
   "metadata": {},
   "source": [
    "# Feture selection\n",
    "Use Decision tree as a base estimator to perform feature selection"
   ]
  },
  {
   "cell_type": "markdown",
   "id": "unable-blond",
   "metadata": {},
   "source": [
    "## Drop one column"
   ]
  },
  {
   "cell_type": "code",
   "execution_count": 58,
   "id": "listed-discovery",
   "metadata": {},
   "outputs": [
    {
     "name": "stdout",
     "output_type": "stream",
     "text": [
      "X1 0.4473684210526316\n",
      "X2 0.4473684210526316\n",
      "X3 0.4473684210526316\n",
      "X4 0.4473684210526316\n",
      "X5 0.4473684210526316\n",
      "X6 0.4473684210526316\n",
      "Feature to drop: X1\n",
      "accracy after drop: 0.4473684210526316\n"
     ]
    }
   ],
   "source": [
    "from sklearn.metrics import accuracy_score,precision_score,recall_score\n",
    "testing_accuracy = []\n",
    "for feature in df.drop(columns='Y').columns:\n",
    "    encoded_data = OneHotEncoder(drop='first',sparse=False).fit_transform(df.drop(columns=feature))\n",
    "    X_train, X_test, y_train, y_test  = train_test_split(encoded_data[:,1:],encoded_data[:,0], test_size=0.3, random_state=0)\n",
    "    tree =  DecisionTreeClassifier(random_state=0,ccp_alpha=.1).fit(X_train, y_train)\n",
    "    accuracy = accuracy_score(tree.predict(X_test),y_test)\n",
    "    testing_accuracy.append((feature,accuracy))\n",
    "    print(feature,accuracy)\n",
    "max_feature = max(testing_accuracy, key=lambda x: x[1])\n",
    "print(\"Feature to drop:\", max_feature[0])\n",
    "print(\"accracy after drop:\", max_feature[1])\n"
   ]
  },
  {
   "cell_type": "markdown",
   "id": "painted-mystery",
   "metadata": {},
   "source": [
    "## Drop two columns"
   ]
  },
  {
   "cell_type": "code",
   "execution_count": 59,
   "id": "compressed-think",
   "metadata": {},
   "outputs": [
    {
     "name": "stdout",
     "output_type": "stream",
     "text": [
      "('X1', 'X2') 0.8947368421052632\n",
      "('X1', 'X3') 0.7631578947368421\n",
      "('X1', 'X4') 0.7631578947368421\n",
      "('X1', 'X5') 0.7631578947368421\n",
      "('X1', 'X6') 0.7631578947368421\n",
      "('X2', 'X3') 1.0\n",
      "('X2', 'X4') 1.0\n",
      "('X2', 'X5') 1.0\n",
      "('X2', 'X6') 1.0\n",
      "('X3', 'X4') 1.0\n",
      "('X3', 'X5') 1.0\n",
      "('X3', 'X6') 1.0\n",
      "('X4', 'X5') 1.0\n",
      "('X4', 'X6') 1.0\n",
      "('X5', 'X6') 1.0\n",
      "Feature to drop: ('X2', 'X3')\n",
      "accracy after drop: 1.0\n"
     ]
    }
   ],
   "source": [
    "from sklearn.metrics import accuracy_score,precision_score,recall_score\n",
    "from itertools import combinations\n",
    "testing_accuracy = []\n",
    "for combination in combinations(df.drop(columns='Y').columns, 2):\n",
    "    encoded_data = OneHotEncoder(drop='first',sparse=False).fit_transform(df.drop(columns='Y').drop(columns=[*combination]))\n",
    "    X_train, X_test, y_train, y_test  = train_test_split(encoded_data[:,1:],encoded_data[:,0], test_size=0.3, random_state=0)\n",
    "    tree =  DecisionTreeClassifier(random_state=0,ccp_alpha=.1).fit(X_train, y_train)\n",
    "    accuracy = accuracy_score(tree.predict(X_test),y_test)\n",
    "    testing_accuracy.append((combination,accuracy))\n",
    "    print(combination,accuracy)\n",
    "max_feature = max(testing_accuracy, key=lambda x: x[1])\n",
    "print(\"Feature to drop:\", max_feature[0])\n",
    "print(\"accracy after drop:\", max_feature[1])"
   ]
  },
  {
   "cell_type": "markdown",
   "id": "cosmetic-federation",
   "metadata": {},
   "source": [
    "There are multiple ways to drop the columns to get optimal testing acuuracy."
   ]
  },
  {
   "cell_type": "markdown",
   "id": "classified-stevens",
   "metadata": {},
   "source": [
    "# Final model\n",
    "## drop X2 and X3"
   ]
  },
  {
   "cell_type": "code",
   "execution_count": 62,
   "id": "drawn-ontario",
   "metadata": {},
   "outputs": [
    {
     "name": "stdout",
     "output_type": "stream",
     "text": [
      "Training accuracy score 0.9886363636363636\n",
      "Testing accuracy score 1.0\n",
      "precision score 1.0\n",
      "recall score 1.0\n"
     ]
    }
   ],
   "source": [
    "encoded_data = OneHotEncoder(drop='first',sparse=False).fit_transform(df.drop(columns='Y').drop(columns=['X2','X3']))\n",
    "X_train, X_test, y_train, y_test  = train_test_split(encoded_data[:,1:],encoded_data[:,0], test_size=0.3, random_state=0)\n",
    "tree =  DecisionTreeClassifier(random_state=0,ccp_alpha=.1).fit(X_train, y_train)\n",
    "print_metric(tree,X_train, X_test, y_train, y_test)"
   ]
  },
  {
   "cell_type": "code",
   "execution_count": null,
   "id": "recorded-northern",
   "metadata": {},
   "outputs": [],
   "source": []
  }
 ],
 "metadata": {
  "kernelspec": {
   "display_name": "Python 3 (ipykernel)",
   "language": "python",
   "name": "python3"
  },
  "language_info": {
   "codemirror_mode": {
    "name": "ipython",
    "version": 3
   },
   "file_extension": ".py",
   "mimetype": "text/x-python",
   "name": "python",
   "nbconvert_exporter": "python",
   "pygments_lexer": "ipython3",
   "version": "3.8.5"
  }
 },
 "nbformat": 4,
 "nbformat_minor": 5
}
